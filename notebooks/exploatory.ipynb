{
 "cells": [
  {
   "cell_type": "markdown",
   "id": "8e4e06f3",
   "metadata": {},
   "source": [
    "# Exploratory Data Analysis (Upgraded)\n",
    "EDA tasks:\n",
    "- Load generated dataset\n",
    "- Visualize distributions, relationships\n",
    "- Check missing values, outliers\n",
    "- Quick correlation heatmap and feature-target relationships\n",
    "\n",
    "\n"
   ]
  },
  {
   "cell_type": "code",
   "execution_count": null,
   "id": "e2afc692",
   "metadata": {
    "vscode": {
     "languageId": "plaintext"
    }
   },
   "outputs": [],
   "source": [
    "import pandas as pd\n",
    "import yaml\n",
    "from pathlib import Path\n",
    "import matplotlib.pyplot as plt\n",
    "import seaborn as sns\n",
    "\n",
    "cfg = yaml.safe_load(open('config.yaml'))\n",
    "df = pd.read_csv(Path(cfg['paths']['data_dir']) / 'dataset.csv')\n",
    "df.head()\n"
   ]
  },
  {
   "cell_type": "code",
   "execution_count": null,
   "id": "2f6a64d2",
   "metadata": {
    "vscode": {
     "languageId": "plaintext"
    }
   },
   "outputs": [],
   "source": [
    "# Overview stats\n",
    "df.describe(include='all').T\n",
    "\n"
   ]
  },
  {
   "cell_type": "code",
   "execution_count": null,
   "id": "7d0be302",
   "metadata": {
    "vscode": {
     "languageId": "plaintext"
    }
   },
   "outputs": [],
   "source": [
    "# Missing values\n",
    "print(\"Missing values per column:\")\n",
    "print(df.isna().sum())\n"
   ]
  },
  {
   "cell_type": "code",
   "execution_count": null,
   "id": "33524ca9",
   "metadata": {
    "vscode": {
     "languageId": "plaintext"
    }
   },
   "outputs": [],
   "source": [
    "# Distribution plots for numeric features\n",
    "num_cols = ['age','income','transactions']\n",
    "for c in num_cols:\n",
    "    plt.figure(figsize=(6,3))\n",
    "    sns.histplot(df[c], kde=True)\n",
    "    plt.title(c)\n",
    "    plt.show()\n"
   ]
  },
  {
   "cell_type": "code",
   "execution_count": null,
   "id": "c36ebb62",
   "metadata": {
    "vscode": {
     "languageId": "plaintext"
    }
   },
   "outputs": [],
   "source": [
    "# Boxplot to inspect outliers\n",
    "for c in num_cols:\n",
    "    plt.figure(figsize=(6,3))\n",
    "    sns.boxplot(x=df[c])\n",
    "    plt.title(f\"Boxplot {c}\")\n",
    "    plt.show()\n"
   ]
  },
  {
   "cell_type": "code",
   "execution_count": null,
   "id": "f94d00a2",
   "metadata": {
    "vscode": {
     "languageId": "plaintext"
    }
   },
   "outputs": [],
   "source": [
    "# Correlation heatmap among numeric features (and engineered ones if present)\n",
    "from feature_engineering import create_features\n",
    "X, y = create_features(df, training=True)\n",
    "plt.figure(figsize=(10,8))\n",
    "corr = X.select_dtypes(include=['number']).corr()\n",
    "sns.heatmap(corr, annot=True, fmt=\".2f\", cmap='vlag')\n",
    "plt.title(\"Numeric feature correlation\")\n",
    "plt.show()\n"
   ]
  },
  {
   "cell_type": "code",
   "execution_count": null,
   "id": "1dd21a5f",
   "metadata": {
    "vscode": {
     "languageId": "plaintext"
    }
   },
   "outputs": [],
   "source": [
    "# Target distribution and relationship with categorical features\n",
    "print(\"Target distribution:\")\n",
    "print(y.value_counts(normalize=True))\n",
    "\n",
    "plt.figure(figsize=(6,4))\n",
    "sns.countplot(x=y)\n",
    "plt.title(\"Target counts\")\n",
    "plt.show()\n",
    "\n",
    "# Membership vs Target\n",
    "plt.figure(figsize=(6,4))\n",
    "sns.barplot(x=df['membership'], y=df['target'])\n",
    "plt.title(\"Membership vs mean Target\")\n",
    "plt.show()\n"
   ]
  },
  {
   "cell_type": "code",
   "execution_count": null,
   "id": "ccef0f55",
   "metadata": {
    "vscode": {
     "languageId": "plaintext"
    }
   },
   "outputs": [],
   "source": [
    "# Pairplot of a few numeric columns (sampled for speed)\n",
    "sns.pairplot(df.sample(min(500, len(df))), vars=num_cols, hue='membership', corner=True)\n"
   ]
  }
 ],
 "metadata": {
  "language_info": {
   "name": "python"
  }
 },
 "nbformat": 4,
 "nbformat_minor": 5
}
